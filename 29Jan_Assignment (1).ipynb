{
 "cells": [
  {
   "cell_type": "markdown",
   "id": "1e3d9d4d-1dc0-46bd-8bbb-1e6c01f57648",
   "metadata": {},
   "source": [
    "1. Who developed python programming language?"
   ]
  },
  {
   "cell_type": "markdown",
   "id": "6508e66c-47bc-4f21-858a-fd204217f27b",
   "metadata": {},
   "source": [
    "Guido van Rossum"
   ]
  },
  {
   "cell_type": "markdown",
   "id": "99d20b95-1515-475e-bca5-03852beac64b",
   "metadata": {},
   "source": [
    "2. Which type of programming does python support?"
   ]
  },
  {
   "cell_type": "markdown",
   "id": "843f9540-e438-4710-9e53-f3a1e52d1060",
   "metadata": {},
   "source": [
    "Ans. Python is a general-purpose programming language that supports multiple programming paradigms, including:\n",
    "\n",
    "    1. Procedural Programming: Python supports procedural programming, which involves organizing code into reusable procedures or functions that can be called when needed.\n",
    "\n",
    "    2. Object-Oriented Programming (OOP): Python supports OOP, which allows users to define classes and objects that encapsulate data and behavior.\n",
    "\n",
    "    3. Functional Programming: Python supports functional programming, which involves using pure functions that don't have side effects and avoid changing state.\n",
    "\n",
    "    4. Aspect-oriented Programming: Python also supports aspect-oriented programming, which allows users to separate cross-cutting concerns such as logging and error handling from the main logic of the program.\n",
    "\n",
    "    5. Scripting: Python is often used as a scripting language, which involves writing short programs to automate tasks or to glue together other programs."
   ]
  },
  {
   "cell_type": "markdown",
   "id": "905d2bb2-3797-4b55-b262-1b003502a7fa",
   "metadata": {},
   "source": [
    "3. Is python case sensitive when dealing with identifiers"
   ]
  },
  {
   "cell_type": "markdown",
   "id": "45d86245-1aff-4818-83ac-f21b6bca1b68",
   "metadata": {},
   "source": [
    "Ans. Yes"
   ]
  },
  {
   "cell_type": "markdown",
   "id": "b939df8e-13ae-41a2-8859-a6032b083926",
   "metadata": {},
   "source": [
    "4. What is the correct extension of python file?"
   ]
  },
  {
   "cell_type": "markdown",
   "id": "f1616cc1-6ee4-4724-b661-30dec2f17a87",
   "metadata": {},
   "source": [
    "Ans. .py"
   ]
  },
  {
   "cell_type": "markdown",
   "id": "811bd963-04b3-42f2-a917-999ed8e0af1a",
   "metadata": {},
   "source": [
    "5. Is python code compiled or interpreted?"
   ]
  },
  {
   "cell_type": "markdown",
   "id": "124c2cee-21e4-498f-b83d-3f2ba347ca17",
   "metadata": {},
   "source": [
    "Ans. Interpreted"
   ]
  },
  {
   "cell_type": "markdown",
   "id": "811c4eec-498b-4d28-90e0-8d85f25ae804",
   "metadata": {},
   "source": [
    "6. Name a few blocks of code used to define in Python language?"
   ]
  },
  {
   "cell_type": "markdown",
   "id": "7d841b0b-9a21-4687-9c3a-96d7a0f96b49",
   "metadata": {},
   "source": [
    "Ans. 1. Module\n",
    "     2. Fucntion body\n",
    "     3. Class definition"
   ]
  },
  {
   "cell_type": "markdown",
   "id": "2d7c5254-b10b-4c61-8f72-c6e1706e8d59",
   "metadata": {},
   "source": [
    "7. State a character used to give single-line comments in python"
   ]
  },
  {
   "cell_type": "markdown",
   "id": "751179f0-c882-496e-956a-e37557e735a4",
   "metadata": {},
   "source": [
    "Ans. #"
   ]
  },
  {
   "cell_type": "markdown",
   "id": "68ac33f2-f0c5-4283-aebb-02b9468b4501",
   "metadata": {},
   "source": [
    "8. Mention functions that can help us to find the version of python that we are currently working on?"
   ]
  },
  {
   "cell_type": "markdown",
   "id": "d67e9b2a-62e3-4f1d-9d02-4bdadeb06bda",
   "metadata": {},
   "source": [
    "Ans. sys.version"
   ]
  },
  {
   "cell_type": "markdown",
   "id": "4c909ea9-35de-4c53-ae67-1e0bb49d6199",
   "metadata": {},
   "source": [
    "9. Python supports the creation of anonymous functions at runtime, using a constructor called"
   ]
  },
  {
   "cell_type": "markdown",
   "id": "0570e010-9621-42e3-af01-bedc3f4e1c29",
   "metadata": {},
   "source": [
    "Ans. lambda"
   ]
  },
  {
   "cell_type": "markdown",
   "id": "b20ec8b0-ac58-4cae-a869-b398da191477",
   "metadata": {},
   "source": [
    "10. What does pip stand for python?"
   ]
  },
  {
   "cell_type": "markdown",
   "id": "bae8c26c-6949-4773-a0e3-ea4b62507bfa",
   "metadata": {},
   "source": [
    "Ans. pip Install Package"
   ]
  },
  {
   "cell_type": "markdown",
   "id": "62af36c0-b439-452d-88bf-904800154936",
   "metadata": {},
   "source": [
    "11. Mention a few built-in functions in python"
   ]
  },
  {
   "cell_type": "markdown",
   "id": "38b27237-be76-440c-be95-a70840ff2c64",
   "metadata": {},
   "source": [
    "Ans. 1. int()\n",
    "     2. chr()\n",
    "     3. bool()\n",
    "     4. len()\n",
    "     5. range()\n",
    "     6. type()"
   ]
  },
  {
   "cell_type": "markdown",
   "id": "daf76440-67de-449e-9f80-b6cfea6131d6",
   "metadata": {},
   "source": [
    "12. What is the maximum possible length of identifier in python?"
   ]
  },
  {
   "cell_type": "markdown",
   "id": "9c6dd2c8-bd9a-42ab-b457-c797a82e5efd",
   "metadata": {},
   "source": [
    "Ans. 79 characters"
   ]
  },
  {
   "cell_type": "markdown",
   "id": "13bc693b-47ab-47ca-b9b5-8e31acbd12c7",
   "metadata": {},
   "source": [
    "13. What are the benefits of using python?"
   ]
  },
  {
   "cell_type": "markdown",
   "id": "8af81983-9c3a-4a05-83b0-479fbaa25cec",
   "metadata": {},
   "source": [
    "Ans. 1. Presence of third-party modules \n",
    "     2. Extensive support libraries(NumPy for numerical calculations, Pandas for data analytics, etc.) \n",
    "     3. Open source and large active community base \n",
    "     4. Versatile, Easy to read, learn and write\n",
    "     5.User-friendly data structures \n",
    "     6. High-level language \n",
    "     7. Dynamically typed language(No need to mention data type based on the value assigned, it takes data type) \n",
    "     8. Object-Oriented and Procedural  Programming language\n",
    "     9. Portable and Interactive\n",
    "     10. Ideal for prototypes – provide more functionality with less coding\n",
    "     11. Highly Efficient(Python’s clean object-oriented design provides enhanced process control, and the language is equipped with excellent text processing and integration capabilities, as well as its own unit testing framework, which makes it more efficient.)\n",
    "     12. Internet of Things(IoT) Opportunities\n",
    "     13. Interpreted Language\n",
    "     14. Portable across Operating systems "
   ]
  },
  {
   "cell_type": "markdown",
   "id": "0ad290bf-b53f-42c0-92af-52adcea65c6f",
   "metadata": {},
   "source": [
    "14. How is memory managed in python?"
   ]
  },
  {
   "cell_type": "markdown",
   "id": "2a35ce02-cb9e-4873-ac65-b83148de245c",
   "metadata": {},
   "source": [
    "Ans. \n",
    "There are two types of memory allocation in Python, static and dynamic."
   ]
  },
  {
   "cell_type": "markdown",
   "id": "d4540c7e-c20b-4ce3-81de-8410ad87611e",
   "metadata": {},
   "source": [
    "15. How to install python in windows and set path variables?"
   ]
  },
  {
   "cell_type": "markdown",
   "id": "134407f1-ab06-48ed-8d6b-478b66411357",
   "metadata": {},
   "source": [
    "Ans.1. Downloading python installer\n",
    "    2. Running the executable installer\n",
    "    3. Verifying the python installation\n",
    "    \n",
    "    Steps to Set path variables:\n",
    "    1. Right click on My Computer and click on properties.\n",
    "    2. Click on Advanced System settings.\n",
    "    3. Click on Environment Variable tab.\n",
    "    4. Click on new tab of user variables.\n",
    "    5. Write path in variable name.\n",
    "    6. Copy the path of Python folder.\n",
    "    7. Paste path of Python in variable value.\n",
    "    8. Click on Ok button:"
   ]
  },
  {
   "cell_type": "markdown",
   "id": "3f0e7686-6e28-4816-a983-8d8a61a6f672",
   "metadata": {},
   "source": [
    "16. Is indentation required in python?"
   ]
  },
  {
   "cell_type": "markdown",
   "id": "720607ab-ebae-467c-8ed3-c8135223dfe5",
   "metadata": {},
   "source": [
    "Ans. Yes"
   ]
  },
  {
   "cell_type": "code",
   "execution_count": null,
   "id": "ba0f3d92-fee5-4f3c-aa81-4de4e04eed0a",
   "metadata": {},
   "outputs": [],
   "source": []
  }
 ],
 "metadata": {
  "kernelspec": {
   "display_name": "Python 3 (ipykernel)",
   "language": "python",
   "name": "python3"
  },
  "language_info": {
   "codemirror_mode": {
    "name": "ipython",
    "version": 3
   },
   "file_extension": ".py",
   "mimetype": "text/x-python",
   "name": "python",
   "nbconvert_exporter": "python",
   "pygments_lexer": "ipython3",
   "version": "3.10.8"
  }
 },
 "nbformat": 4,
 "nbformat_minor": 5
}
