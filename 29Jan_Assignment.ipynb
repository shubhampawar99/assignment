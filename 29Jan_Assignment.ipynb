{
 "cells": [
  {
   "cell_type": "raw",
   "id": "f6b237ac-8f0e-4db7-99f2-41e87fa52ef1",
   "metadata": {},
   "source": [
    "1. Who developed python programming language?"
   ]
  },
  {
   "cell_type": "markdown",
   "id": "6508e66c-47bc-4f21-858a-fd204217f27b",
   "metadata": {},
   "source": [
    "Guido van Rossum"
   ]
  },
  {
   "cell_type": "raw",
   "id": "9679924f-e953-4539-8df9-38e8580dec2e",
   "metadata": {},
   "source": [
    "2. Which type of programming does python support?"
   ]
  },
  {
   "cell_type": "markdown",
   "id": "843f9540-e438-4710-9e53-f3a1e52d1060",
   "metadata": {},
   "source": [
    "Ans. Python is a general-purpose programming language that supports multiple programming paradigms, including:\n",
    "\n",
    "    1. Procedural Programming: Python supports procedural programming, which involves organizing code into reusable procedures or functions that can be called when needed.\n",
    "\n",
    "    2. Object-Oriented Programming (OOP): Python supports OOP, which allows users to define classes and objects that encapsulate data and behavior.\n",
    "\n",
    "    3. Functional Programming: Python supports functional programming, which involves using pure functions that don't have side effects and avoid changing state.\n",
    "\n",
    "    4. Aspect-oriented Programming: Python also supports aspect-oriented programming, which allows users to separate cross-cutting concerns such as logging and error handling from the main logic of the program.\n",
    "\n",
    "    5. Scripting: Python is often used as a scripting language, which involves writing short programs to automate tasks or to glue together other programs."
   ]
  },
  {
   "cell_type": "raw",
   "id": "4e7559e4-8df9-4df7-95e6-2b4533db77d2",
   "metadata": {},
   "source": [
    "3. Is python case sensitive when dealing with identifiers"
   ]
  },
  {
   "cell_type": "markdown",
   "id": "45d86245-1aff-4818-83ac-f21b6bca1b68",
   "metadata": {},
   "source": [
    "Ans. Yes"
   ]
  },
  {
   "cell_type": "raw",
   "id": "0e343342-bc6d-4bb6-afc9-2dbeae8d4f2f",
   "metadata": {},
   "source": [
    "4. What is the correct extension of python file?"
   ]
  },
  {
   "cell_type": "markdown",
   "id": "f1616cc1-6ee4-4724-b661-30dec2f17a87",
   "metadata": {},
   "source": [
    "Ans. .py"
   ]
  },
  {
   "cell_type": "raw",
   "id": "437c8df0-bd00-48db-b653-c7e221efae8c",
   "metadata": {},
   "source": [
    "5. Is python code compiled or interpreted?"
   ]
  },
  {
   "cell_type": "markdown",
   "id": "124c2cee-21e4-498f-b83d-3f2ba347ca17",
   "metadata": {},
   "source": [
    "Ans. Interpreted"
   ]
  },
  {
   "cell_type": "raw",
   "id": "f0e7ac56-eaac-49bf-9ae2-7be67bbbed5b",
   "metadata": {},
   "source": [
    "6. Name a few blocks of code used to define in Python language?"
   ]
  },
  {
   "cell_type": "markdown",
   "id": "7d841b0b-9a21-4687-9c3a-96d7a0f96b49",
   "metadata": {},
   "source": [
    "Ans. 1. Module\n",
    "     2. Fucntion body\n",
    "     3. Class definition"
   ]
  },
  {
   "cell_type": "raw",
   "id": "0d85fd8d-46ce-4321-9f6e-145f2de32abe",
   "metadata": {},
   "source": [
    "7. State a character used to give single-line comments in python"
   ]
  },
  {
   "cell_type": "markdown",
   "id": "751179f0-c882-496e-956a-e37557e735a4",
   "metadata": {},
   "source": [
    "Ans. #"
   ]
  },
  {
   "cell_type": "raw",
   "id": "18a25c39-c8fa-49bf-8854-fc64f2142d45",
   "metadata": {},
   "source": [
    "8. Mention functions that can help us to find the version of python that we are currently working on?"
   ]
  },
  {
   "cell_type": "markdown",
   "id": "d67e9b2a-62e3-4f1d-9d02-4bdadeb06bda",
   "metadata": {},
   "source": [
    "Ans. sys.version"
   ]
  },
  {
   "cell_type": "markdown",
   "id": "4c909ea9-35de-4c53-ae67-1e0bb49d6199",
   "metadata": {},
   "source": [
    "9. Python supports the creation of anonymous functions at runtime, using a constructor called"
   ]
  },
  {
   "cell_type": "markdown",
   "id": "0570e010-9621-42e3-af01-bedc3f4e1c29",
   "metadata": {},
   "source": [
    "Ans. lambda"
   ]
  },
  {
   "cell_type": "raw",
   "id": "57a364c2-c51b-45cf-baea-ed37b0c1b76a",
   "metadata": {},
   "source": [
    "10. What does pip stand for python?"
   ]
  },
  {
   "cell_type": "markdown",
   "id": "bae8c26c-6949-4773-a0e3-ea4b62507bfa",
   "metadata": {},
   "source": [
    "Ans. pip Install Package"
   ]
  },
  {
   "cell_type": "raw",
   "id": "74e89571-d38f-407f-86c5-4ccdcf359426",
   "metadata": {},
   "source": [
    "11. Mention a few built-in functions in python"
   ]
  },
  {
   "cell_type": "markdown",
   "id": "38b27237-be76-440c-be95-a70840ff2c64",
   "metadata": {},
   "source": [
    "Ans. 1. int()\n",
    "     2. chr()\n",
    "     3. bool()\n",
    "     4. len()\n",
    "     5. range()\n",
    "     6. type()"
   ]
  },
  {
   "cell_type": "raw",
   "id": "0b85ecdd-5605-440c-8cff-d48e738b387e",
   "metadata": {},
   "source": [
    "12. What is the maximum possible length of identifier in python?"
   ]
  },
  {
   "cell_type": "markdown",
   "id": "9c6dd2c8-bd9a-42ab-b457-c797a82e5efd",
   "metadata": {},
   "source": [
    "Ans. 79 characters"
   ]
  },
  {
   "cell_type": "raw",
   "id": "ffa37827-8732-40e4-a343-86941358d02f",
   "metadata": {},
   "source": [
    "13. What are the benefits of using python?"
   ]
  },
  {
   "cell_type": "raw",
   "id": "db5d464b-a986-4967-be08-f79562639876",
   "metadata": {},
   "source": [
    "Ans. 1. Presence of third-party modules \n",
    "     2. Extensive support libraries(NumPy for numerical calculations, Pandas for data analytics, etc.) \n",
    "     3. Open source and large active community base \n",
    "     4. Versatile, Easy to read, learn and write\n",
    "     5.User-friendly data structures \n",
    "     6. High-level language \n",
    "     7. Dynamically typed language(No need to mention data type based on the value assigned, it takes data type) \n",
    "     8. Object-Oriented and Procedural  Programming language\n",
    "     9. Portable and Interactive\n",
    "     10. Ideal for prototypes – provide more functionality with less coding\n",
    "     11. Highly Efficient(Python’s clean object-oriented design provides enhanced process control, and the language is equipped with excellent text processing and integration capabilities, as well as its own unit testing framework, which makes it more efficient.)\n",
    "     12. Internet of Things(IoT) Opportunities\n",
    "     13. Interpreted Language\n",
    "     14. Portable across Operating systems "
   ]
  },
  {
   "cell_type": "raw",
   "id": "bdf80b99-a48f-4d89-915d-b07623fdd4cf",
   "metadata": {},
   "source": [
    "14. How is memory managed in python?"
   ]
  },
  {
   "cell_type": "markdown",
   "id": "2a35ce02-cb9e-4873-ac65-b83148de245c",
   "metadata": {},
   "source": [
    "Ans. \n",
    "There are two types of memory allocation in Python, static and dynamic."
   ]
  },
  {
   "cell_type": "raw",
   "id": "cd8e1f29-611f-4f19-9443-50dba770dc9b",
   "metadata": {},
   "source": [
    "15. How to install python in windows and set path variables?"
   ]
  },
  {
   "cell_type": "raw",
   "id": "34ce4d4e-ad2e-4f67-92d9-05a42a4ae17a",
   "metadata": {},
   "source": [
    "Ans.1. Downloading python installer\n",
    "    2. Running the executable installer\n",
    "    3. Verifying the python installation\n",
    "    \n",
    "    Steps to Set path variables:\n",
    "    1. Right click on My Computer and click on properties.\n",
    "    2. Click on Advanced System settings.\n",
    "    3. Click on Environment Variable tab.\n",
    "    4. Click on new tab of user variables.\n",
    "    5. Write path in variable name.\n",
    "    6. Copy the path of Python folder.\n",
    "    7. Paste path of Python in variable value.\n",
    "    8. Click on Ok button:"
   ]
  },
  {
   "cell_type": "raw",
   "id": "69593c9c-e5ae-4f97-8bd2-6125c9f8b4b3",
   "metadata": {},
   "source": [
    "16. Is indentation required in python?"
   ]
  },
  {
   "cell_type": "markdown",
   "id": "720607ab-ebae-467c-8ed3-c8135223dfe5",
   "metadata": {},
   "source": [
    "Ans. Yes"
   ]
  }
 ],
 "metadata": {
  "kernelspec": {
   "display_name": "Python 3 (ipykernel)",
   "language": "python",
   "name": "python3"
  },
  "language_info": {
   "codemirror_mode": {
    "name": "ipython",
    "version": 3
   },
   "file_extension": ".py",
   "mimetype": "text/x-python",
   "name": "python",
   "nbconvert_exporter": "python",
   "pygments_lexer": "ipython3",
   "version": "3.10.8"
  }
 },
 "nbformat": 4,
 "nbformat_minor": 5
}
