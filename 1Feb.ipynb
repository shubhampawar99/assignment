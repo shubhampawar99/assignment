{
 "cells": [
  {
   "cell_type": "code",
   "execution_count": 11,
   "id": "f7055c42-4338-4596-9ee8-be6efd72b637",
   "metadata": {},
   "outputs": [
    {
     "name": "stdin",
     "output_type": "stream",
     "text": [
      "Enter ur marks 244\n"
     ]
    },
    {
     "name": "stdout",
     "output_type": "stream",
     "text": [
      "Batch A0\n"
     ]
    }
   ],
   "source": [
    "marks= int(input('Enter ur marks'))\n",
    "if marks >= 80:\n",
    "    print('Batch A0')\n",
    "elif marks >= 60 and marks < 800:\n",
    "    print('Batch A1')\n",
    "elif marks >= 40 and marks <60:\n",
    "    print('Batch A2')\n",
    "else:\n",
    "    print('Batch A3')"
   ]
  },
  {
   "cell_type": "code",
   "execution_count": 12,
   "id": "ed416984-7900-4bb1-a95d-eccb36b495bc",
   "metadata": {},
   "outputs": [
    {
     "name": "stdin",
     "output_type": "stream",
     "text": [
      "Enter price:  34535\n"
     ]
    },
    {
     "name": "stdout",
     "output_type": "stream",
     "text": [
      "I will not purchase\n",
      "This is too much\n"
     ]
    }
   ],
   "source": [
    "price=int(input('Enter price: '))\n",
    "if price >1000:\n",
    "    print('I will not purchase')\n",
    "    if price>5000:\n",
    "        print('This is too much')\n",
    "else:\n",
    "    print(\"I will purchase\")"
   ]
  },
  {
   "cell_type": "code",
   "execution_count": 13,
   "id": "554ffdf7-afb0-4b1b-8379-0e7bdc3398fc",
   "metadata": {},
   "outputs": [],
   "source": [
    "l=[1,2,3,4,5,6,7,8]"
   ]
  },
  {
   "cell_type": "code",
   "execution_count": 14,
   "id": "2607abb7-db81-4506-acb4-1d03d22b0add",
   "metadata": {},
   "outputs": [],
   "source": [
    "i=0\n",
    "while i<len(l):\n",
    "    l[i]+=1\n",
    "    i+=1"
   ]
  },
  {
   "cell_type": "code",
   "execution_count": 15,
   "id": "f93b825d-bdfe-4b2e-8a9a-da28686e1337",
   "metadata": {},
   "outputs": [
    {
     "data": {
      "text/plain": [
       "[2, 3, 4, 5, 6, 7, 8, 9]"
      ]
     },
     "execution_count": 15,
     "metadata": {},
     "output_type": "execute_result"
    }
   ],
   "source": [
    "l"
   ]
  },
  {
   "cell_type": "code",
   "execution_count": 16,
   "id": "7dbd0be6-7b20-4a20-8cd0-885e7cb49f24",
   "metadata": {},
   "outputs": [],
   "source": [
    "l1=[]\n",
    "for i in l:\n",
    "    l1.append(i+1)"
   ]
  },
  {
   "cell_type": "code",
   "execution_count": 17,
   "id": "6aa36e1e-a741-44c4-83c4-e1d64771c6c6",
   "metadata": {},
   "outputs": [
    {
     "data": {
      "text/plain": [
       "[3, 4, 5, 6, 7, 8, 9, 10]"
      ]
     },
     "execution_count": 17,
     "metadata": {},
     "output_type": "execute_result"
    }
   ],
   "source": [
    "l1"
   ]
  },
  {
   "cell_type": "code",
   "execution_count": 1,
   "id": "e99fa18d-d482-42a4-b583-d70b2a78ff1e",
   "metadata": {},
   "outputs": [],
   "source": [
    "l=['shub','pawar','pwskills','course']"
   ]
  },
  {
   "cell_type": "code",
   "execution_count": 4,
   "id": "cf465327-1cd8-4a6d-9b0f-1d0652fbf24e",
   "metadata": {},
   "outputs": [],
   "source": [
    "l1=[]\n",
    "for i in l:\n",
    "    l1.append(i.upper())"
   ]
  },
  {
   "cell_type": "markdown",
   "id": "464cb99e-2ead-46e9-98ea-2ad914dd2e28",
   "metadata": {},
   "source": [
    "l1"
   ]
  },
  {
   "cell_type": "code",
   "execution_count": 5,
   "id": "908cb5c7-8563-422d-bca7-23fe20b02d30",
   "metadata": {},
   "outputs": [
    {
     "data": {
      "text/plain": [
       "['SHUB', 'PAWAR', 'PWSKILLS', 'COURSE']"
      ]
     },
     "execution_count": 5,
     "metadata": {},
     "output_type": "execute_result"
    }
   ],
   "source": [
    "l1"
   ]
  },
  {
   "cell_type": "code",
   "execution_count": 9,
   "id": "d21cd9a0-bdb5-4b9c-8d08-432220d9b390",
   "metadata": {},
   "outputs": [],
   "source": [
    "l=[1,2,3,4,4,'sudh','kumar',1.32,2.42,'abc']"
   ]
  },
  {
   "cell_type": "code",
   "execution_count": 10,
   "id": "d9099577-db8b-43dc-bbaf-8434fb6bae23",
   "metadata": {},
   "outputs": [],
   "source": [
    "l1=[]\n",
    "l2=[]\n",
    "for i in l:\n",
    "    if type(i)!=str:\n",
    "        l2.append(i)\n",
    "    else:\n",
    "        l1.append(i)"
   ]
  },
  {
   "cell_type": "code",
   "execution_count": 11,
   "id": "d4fc458d-56ba-4516-beed-587f71680ec2",
   "metadata": {},
   "outputs": [
    {
     "data": {
      "text/plain": [
       "['sudh', 'kumar', 'abc']"
      ]
     },
     "execution_count": 11,
     "metadata": {},
     "output_type": "execute_result"
    }
   ],
   "source": [
    "l1"
   ]
  },
  {
   "cell_type": "code",
   "execution_count": 12,
   "id": "0f91e360-9aa7-4e9d-a232-13da68f6df12",
   "metadata": {},
   "outputs": [
    {
     "data": {
      "text/plain": [
       "[1, 2, 3, 4, 4, 1.32, 2.42]"
      ]
     },
     "execution_count": 12,
     "metadata": {},
     "output_type": "execute_result"
    }
   ],
   "source": [
    "l2"
   ]
  },
  {
   "cell_type": "code",
   "execution_count": null,
   "id": "305e957a-650e-4e40-9098-ca29d05590b2",
   "metadata": {},
   "outputs": [],
   "source": []
  }
 ],
 "metadata": {
  "kernelspec": {
   "display_name": "Python 3 (ipykernel)",
   "language": "python",
   "name": "python3"
  },
  "language_info": {
   "codemirror_mode": {
    "name": "ipython",
    "version": 3
   },
   "file_extension": ".py",
   "mimetype": "text/x-python",
   "name": "python",
   "nbconvert_exporter": "python",
   "pygments_lexer": "ipython3",
   "version": "3.10.8"
  }
 },
 "nbformat": 4,
 "nbformat_minor": 5
}
